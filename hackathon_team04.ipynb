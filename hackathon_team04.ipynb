{
  "nbformat": 4,
  "nbformat_minor": 0,
  "metadata": {
    "accelerator": "GPU",
    "colab": {
      "name": "hackathon_team04.ipynb",
      "provenance": [],
      "collapsed_sections": [
        "1AosAX9DXOlc",
        "67lwEXhUqys1",
        "A-YjppJpXBO9"
      ],
      "include_colab_link": true
    },
    "kernelspec": {
      "display_name": "Python 3",
      "language": "python",
      "name": "python3"
    },
    "language_info": {
      "codemirror_mode": {
        "name": "ipython",
        "version": 3
      },
      "file_extension": ".py",
      "mimetype": "text/x-python",
      "name": "python",
      "nbconvert_exporter": "python",
      "pygments_lexer": "ipython3",
      "version": "3.7.4"
    }
  },
  "cells": [
    {
      "cell_type": "markdown",
      "metadata": {
        "id": "view-in-github",
        "colab_type": "text"
      },
      "source": [
        "<a href=\"https://colab.research.google.com/github/whddk4415/2020_cau_oss_hackathon/blob/master/hackathon_team04.ipynb\" target=\"_parent\"><img src=\"https://colab.research.google.com/assets/colab-badge.svg\" alt=\"Open In Colab\"/></a>"
      ]
    },
    {
      "cell_type": "markdown",
      "metadata": {
        "colab_type": "text",
        "id": "1AosAX9DXOlc"
      },
      "source": [
        "# **0. 해커톤 진행 주의사항**\n",
        "\n",
        "**1)  개발 관련 주의사항**\n",
        "*   [1. 초기 환경 설정]은 절대 수정하지 말 것\n",
        "*   모든 구현은 [2. 데이터 전처리] 및 [3.모델 생성]에서만 진행\n",
        "*   [4. 모델 저장]에서 team_name 변수 변경 (예.`team_name = 'team01'`)\n",
        " *    트레이닝 중간에 checkpoint를 활용하여 모델을 저장한 경우에도 파일 이름 양식 통일 필수\n",
        "*   Colab 사용중 실수로 데이터 손실이 발생할 수도 있으니 중간 결과값을 github에 업로드 \n",
        " *    \"런타임->모든 런타임 재설정\"은 절대 누르지 말 것 (저장한 모델 데이터가 모두 삭제됨)\n",
        "*   효율적인 구현 및 테스팅을 위해 GPU 가속 기능 활성화\n",
        " *    \"런타임 -> 런타임 유형변경 -> 하드웨어 가속기 -> GPU 설정\"\n",
        "*   주석을 최대한 자세히 작성\n",
        "*   Keras API 관련하여 [Keras Documentation](https://keras.io/) 참조\n",
        "\n",
        "**2) 제출 관련 주의사항**\n",
        "*  제출물\n",
        " *  소스코드 (hackathon_teamXX.ipynb)\n",
        " *  컴파일된 모델 파일 (model_entire_teamXX.h5)\n",
        " *  모델 발표 자료 \n",
        "* 제출 기한: **오후 5시 (단, 발표자료는 11시)**\n",
        "* 제출 방법: [GitHub README](https://github.com/cauosshackathonta/2020_cau_oss_hackathon/) 참조\n",
        "\n",
        " \n",
        "**3) 평가 관련 주의사항**\n",
        "*  모델 성능 = 테스트 데이터 셋 분류 정확도\n",
        " *  model.evaluate(x_test, y_test)\n",
        "*  제출된 모델들의 테스트 데이터 셋 분류 정확도를 기준으로 수상작 결정\n",
        "*  수상 후보들에 대해서는 소스코드를 기반으로 모델 재검증 \n",
        " \n",
        "**4) 수상 실격 사유**\n",
        "*  유사한 소스코드 or 알고리즘이 적발될 경우\n",
        "*  소스코드와 제출된 모델이 상이한 경우\n",
        "*  개발 관련 주의사항을 지키지 않은 경우\n",
        " *  예: [초기 환경 설정]을 수정한 경우\n",
        "*  데이터 셋을 변조한 경우\n",
        " *  예. 테스트 데이터 셋을 트레이닝 데이터 셋에 포함하여 모델 생성 \n",
        "*  주석이 소스코드와 맞지 않거나 미비할 경우\n",
        "\n",
        "\n",
        "\n",
        "\n"
      ]
    },
    {
      "cell_type": "markdown",
      "metadata": {
        "colab_type": "text",
        "id": "67lwEXhUqys1"
      },
      "source": [
        "# **1. 초기 환경 설정**\n",
        "\n"
      ]
    },
    {
      "cell_type": "code",
      "metadata": {
        "colab_type": "code",
        "id": "Ms5PBBJ1qSC6",
        "colab": {}
      },
      "source": [
        "from __future__ import absolute_import, division, print_function, unicode_literals, unicode_literals\n",
        "\n",
        "# tensorflow와 tf.keras 및 관련 라이브러리 임포트\n",
        "import tensorflow as tf\n",
        "from tensorflow import keras\n",
        "from keras.utils import np_utils\n",
        "\n",
        "import numpy as np\n",
        "\n",
        "# 데이터셋 다운로드\n",
        "check = !if [ -d 'dataset/' ]; then echo \"1\" ; else echo \"0\"; fi\n",
        "if (check[0] is '0' ):\n",
        "  !mkdir dataset\n",
        "  !wget 'https://www.itl.nist.gov/iaui/vip/cs_links/EMNIST/matlab.zip'\n",
        "  !unzip matlab.zip -d /content/dataset\n",
        "\n",
        "# 데이터셋 로드\n",
        "from scipy import io as spio\n",
        "emnist = spio.loadmat(\"/content/dataset/matlab/emnist-balanced.mat\")\n",
        "\n",
        "x_train = emnist[\"dataset\"][0][0][0][0][0][0]\n",
        "y_train = emnist[\"dataset\"][0][0][0][0][0][1]\n",
        "\n",
        "x_test = emnist[\"dataset\"][0][0][1][0][0][0]\n",
        "y_test = emnist[\"dataset\"][0][0][1][0][0][1]\n",
        "\n",
        "# # 분류를 위해 클래스 벡터를 바이너리 매트릭스로 변환\n",
        "y_train = np_utils.to_categorical(y_train)\n",
        "y_test = np_utils.to_categorical(y_test)\n",
        "\n",
        "# 데이터 28x28 이미지화\n",
        "x_train = x_train.reshape(x_train.shape[0], 28, 28, 1).astype('float32')\n",
        "x_test = x_test.reshape(x_test.shape[0], 28, 28, 1).astype('float32')\n",
        "\n",
        "# 총 클래스 개수\n",
        "num_classes = y_test.shape[1]\n",
        "input_shape = x_test.shape[1:]"
      ],
      "execution_count": 40,
      "outputs": []
    },
    {
      "cell_type": "code",
      "metadata": {
        "id": "-d9lexvvQsWy",
        "colab_type": "code",
        "colab": {
          "base_uri": "https://localhost:8080/",
          "height": 35
        },
        "outputId": "e4037a38-b856-40b5-e68a-111020e1d7cb"
      },
      "source": [
        "print(input_shape)"
      ],
      "execution_count": 78,
      "outputs": [
        {
          "output_type": "stream",
          "text": [
            "(28, 28, 1)\n"
          ],
          "name": "stdout"
        }
      ]
    },
    {
      "cell_type": "markdown",
      "metadata": {
        "colab_type": "text",
        "id": "A-YjppJpXBO9"
      },
      "source": [
        "# **2. 데이터 전처리**\n",
        "\n"
      ]
    },
    {
      "cell_type": "code",
      "metadata": {
        "colab_type": "code",
        "id": "QZ9KWTBP6AI1",
        "colab": {}
      },
      "source": [
        "# 데이터 전처리 (예: normalization)\n",
        "x_train_after = x_train / 255.0\n",
        "x_test_after = x_test / 255.0"
      ],
      "execution_count": 66,
      "outputs": []
    },
    {
      "cell_type": "code",
      "metadata": {
        "id": "cxU5z4f0BsRu",
        "colab_type": "code",
        "colab": {}
      },
      "source": [
        "import matplotlib.pyplot as plt\n",
        "\n",
        "# 손실 그래프\n",
        "def plot_loss(history):\n",
        "\t# 선 그리기\n",
        "\tplt.plot(history.history['loss'])\n",
        "\tplt.plot(history.history['val_loss'])\n",
        "\t# 그래프 제목\n",
        "\tplt.title('Model Loss')\n",
        "\t# x,y축 이름 표시\n",
        "\tplt.ylabel('Loss')\n",
        "\tplt.xlabel('Epoch')\n",
        "\t# 각 라인 표식 표시\n",
        "\tplt.legend(['Train','Test'],loc=0)\n",
        "\n",
        "# 정확도 그래프\n",
        "def plot_acc(history):\n",
        "  # dir(history.history)\n",
        "\tplt.plot(history.history['accuracy'])\n",
        "\tplt.plot(history.history['val_accuracy'])\n",
        "\tplt.title('Model accuracy')\n",
        "\tplt.ylabel('Accuracy')\n",
        "\tplt.xlabel('Epoch')\n",
        "\tplt.legend(['Train', 'Test'], loc=0)"
      ],
      "execution_count": 33,
      "outputs": []
    },
    {
      "cell_type": "code",
      "metadata": {
        "id": "tA7PheQGE5Ie",
        "colab_type": "code",
        "colab": {
          "base_uri": "https://localhost:8080/",
          "height": 53
        },
        "outputId": "f06be95a-e0ae-47a1-ef6e-f2aa465c6812"
      },
      "source": [
        "print(x_train.shape)\n",
        "print(x_test.shape)"
      ],
      "execution_count": 42,
      "outputs": [
        {
          "output_type": "stream",
          "text": [
            "(112800, 28, 28, 1)\n",
            "(18800, 28, 28, 1)\n"
          ],
          "name": "stdout"
        }
      ]
    },
    {
      "cell_type": "markdown",
      "metadata": {
        "colab_type": "text",
        "id": "v-lo-O1yiFpY"
      },
      "source": [
        "# **3. 모델 생성**"
      ]
    },
    {
      "cell_type": "code",
      "metadata": {
        "colab_type": "code",
        "id": "DZP4eRmRqgRp",
        "colab": {
          "base_uri": "https://localhost:8080/",
          "height": 1000
        },
        "outputId": "6f74f6eb-4593-4504-c862-eeb8e7b7409d"
      },
      "source": [
        "inputs = tf.keras.layers.Input(input_shape)\n",
        "dropout_rate = 0.5\n",
        "\n",
        "net = tf.keras.layers.BatchNormalization()(inputs)\n",
        "net = tf.keras.layers.Conv2D(128, (3, 3), padding='SAME')(net)\n",
        "net = tf.keras.layers.Activation('swish')(net)\n",
        "net = tf.keras.layers.Conv2D(128, (3, 3), padding='SAME')(net)\n",
        "net = tf.keras.layers.Activation('swish')(net)\n",
        "net = tf.keras.layers.MaxPooling2D(pool_size=(2, 2))(net)\n",
        "net = tf.keras.layers.Dropout(dropout_rate)(net)\n",
        "\n",
        "net = tf.keras.layers.Conv2D(256, (3, 3), padding='SAME')(net)\n",
        "net = tf.keras.layers.Activation('swish')(net)\n",
        "net = tf.keras.layers.Conv2D(256, (3, 3), padding='SAME')(net)\n",
        "net = tf.keras.layers.Activation('swish')(net)\n",
        "net = tf.keras.layers.MaxPooling2D(pool_size=(4, 4))(net)\n",
        "net = tf.keras.layers.Dropout(dropout_rate)(net)\n",
        "\n",
        "net = tf.keras.layers.Flatten()(net)\n",
        "net = tf.keras.layers.Dense(512)(net)\n",
        "net = tf.keras.layers.Activation('swish')(net)\n",
        "net = tf.keras.layers.Dropout(dropout_rate)(net)\n",
        "net = tf.keras.layers.Dense(num_classes)(net)\n",
        "net = tf.keras.layers.Activation('softmax')(net)\n",
        "\n",
        "model = tf.keras.Model(inputs=inputs, outputs=net, name='team04')\n",
        "\n",
        "\n",
        "# 모델 컴파일\n",
        "# optimizer: 모델을 업데이트 하는 방식\n",
        "# loss: 모델의 정확도를 판단하는 방식\n",
        "# metrics: 트레이닝 및 테스팅 성능 모니터링을 위한 평가지표\n",
        "model.compile(loss='categorical_crossentropy', optimizer='adam', metrics=['accuracy'])\n",
        "\n",
        "\n",
        "# 체크포인트 생성\n",
        "cp_callback = tf.keras.callbacks.ModelCheckpoint(filepath='/content/checkpoint_entire_best.h5', monitor='val_accuracy', verbose=1, save_weight_only=False, save_best_only=True, mode='auto')\n",
        "\n",
        "# 모델 트레이닝\n",
        "# batch_size: 전체 데이터셋 중 몇개씩 학습시킬 것인지\n",
        "# epoch: 학습에 전체 데이터셋이 총 몇번 이용될 것인지\n",
        "# shuffle: 학습전에 트레이닝 데이터셋을 랜덤하게 섞을 것인지\n",
        "# validation_data: 중간 성능 검증에 사용할 data set\n",
        "history = model.fit(x_train_after, y_train, batch_size = 100, epochs = 20, shuffle=True, callbacks=[cp_callback], validation_data=(x_test_after, y_test))"
      ],
      "execution_count": 123,
      "outputs": [
        {
          "output_type": "stream",
          "text": [
            "Epoch 1/20\n",
            "   2/1128 [..............................] - ETA: 55s - loss: 3.8511 - accuracy: 0.0100    WARNING:tensorflow:Callbacks method `on_train_batch_end` is slow compared to the batch time (batch time: 0.0047s vs `on_train_batch_end` time: 0.0474s). Check your callbacks.\n",
            "1128/1128 [==============================] - ETA: 0s - loss: 0.7384 - accuracy: 0.7666WARNING:tensorflow:Callbacks method `on_test_batch_end` is slow compared to the batch time (batch time: 0.0014s vs `on_test_batch_end` time: 0.0107s). Check your callbacks.\n",
            "\n",
            "Epoch 00001: val_accuracy improved from -inf to 0.86521, saving model to /content/checkpoint_entire_best.h5\n",
            "1128/1128 [==============================] - 48s 43ms/step - loss: 0.7384 - accuracy: 0.7666 - val_loss: 0.3920 - val_accuracy: 0.8652\n",
            "Epoch 2/20\n",
            "1127/1128 [============================>.] - ETA: 0s - loss: 0.4524 - accuracy: 0.8427\n",
            "Epoch 00002: val_accuracy improved from 0.86521 to 0.87191, saving model to /content/checkpoint_entire_best.h5\n",
            "1128/1128 [==============================] - 48s 43ms/step - loss: 0.4523 - accuracy: 0.8427 - val_loss: 0.3525 - val_accuracy: 0.8719\n",
            "Epoch 3/20\n",
            "1128/1128 [==============================] - ETA: 0s - loss: 0.4128 - accuracy: 0.8534\n",
            "Epoch 00003: val_accuracy improved from 0.87191 to 0.88069, saving model to /content/checkpoint_entire_best.h5\n",
            "1128/1128 [==============================] - 48s 43ms/step - loss: 0.4128 - accuracy: 0.8534 - val_loss: 0.3325 - val_accuracy: 0.8807\n",
            "Epoch 4/20\n",
            "1127/1128 [============================>.] - ETA: 0s - loss: 0.3952 - accuracy: 0.8592\n",
            "Epoch 00004: val_accuracy did not improve from 0.88069\n",
            "1128/1128 [==============================] - 48s 43ms/step - loss: 0.3952 - accuracy: 0.8592 - val_loss: 0.3322 - val_accuracy: 0.8795\n",
            "Epoch 5/20\n",
            "1127/1128 [============================>.] - ETA: 0s - loss: 0.3810 - accuracy: 0.8636\n",
            "Epoch 00005: val_accuracy improved from 0.88069 to 0.88511, saving model to /content/checkpoint_entire_best.h5\n",
            "1128/1128 [==============================] - 48s 43ms/step - loss: 0.3810 - accuracy: 0.8636 - val_loss: 0.3164 - val_accuracy: 0.8851\n",
            "Epoch 6/20\n",
            "1127/1128 [============================>.] - ETA: 0s - loss: 0.3701 - accuracy: 0.8673\n",
            "Epoch 00006: val_accuracy improved from 0.88511 to 0.88723, saving model to /content/checkpoint_entire_best.h5\n",
            "1128/1128 [==============================] - 48s 43ms/step - loss: 0.3701 - accuracy: 0.8673 - val_loss: 0.3185 - val_accuracy: 0.8872\n",
            "Epoch 7/20\n",
            "1128/1128 [==============================] - ETA: 0s - loss: 0.3599 - accuracy: 0.8698\n",
            "Epoch 00007: val_accuracy improved from 0.88723 to 0.89074, saving model to /content/checkpoint_entire_best.h5\n",
            "1128/1128 [==============================] - 48s 43ms/step - loss: 0.3599 - accuracy: 0.8698 - val_loss: 0.3141 - val_accuracy: 0.8907\n",
            "Epoch 8/20\n",
            "1128/1128 [==============================] - ETA: 0s - loss: 0.3542 - accuracy: 0.8709\n",
            "Epoch 00008: val_accuracy did not improve from 0.89074\n",
            "1128/1128 [==============================] - 48s 43ms/step - loss: 0.3542 - accuracy: 0.8709 - val_loss: 0.3240 - val_accuracy: 0.8831\n",
            "Epoch 9/20\n",
            "1127/1128 [============================>.] - ETA: 0s - loss: 0.3471 - accuracy: 0.8723\n",
            "Epoch 00009: val_accuracy did not improve from 0.89074\n",
            "1128/1128 [==============================] - 48s 43ms/step - loss: 0.3471 - accuracy: 0.8723 - val_loss: 0.3108 - val_accuracy: 0.8899\n",
            "Epoch 10/20\n",
            "1127/1128 [============================>.] - ETA: 0s - loss: 0.3415 - accuracy: 0.8744\n",
            "Epoch 00010: val_accuracy did not improve from 0.89074\n",
            "1128/1128 [==============================] - 48s 43ms/step - loss: 0.3414 - accuracy: 0.8744 - val_loss: 0.3124 - val_accuracy: 0.8888\n",
            "Epoch 11/20\n",
            "1127/1128 [============================>.] - ETA: 0s - loss: 0.3357 - accuracy: 0.8767\n",
            "Epoch 00011: val_accuracy did not improve from 0.89074\n",
            "1128/1128 [==============================] - 48s 43ms/step - loss: 0.3358 - accuracy: 0.8767 - val_loss: 0.3106 - val_accuracy: 0.8897\n",
            "Epoch 12/20\n",
            "1127/1128 [============================>.] - ETA: 0s - loss: 0.3358 - accuracy: 0.8758\n",
            "Epoch 00012: val_accuracy improved from 0.89074 to 0.89250, saving model to /content/checkpoint_entire_best.h5\n",
            "1128/1128 [==============================] - 48s 43ms/step - loss: 0.3358 - accuracy: 0.8758 - val_loss: 0.3037 - val_accuracy: 0.8925\n",
            "Epoch 13/20\n",
            "1127/1128 [============================>.] - ETA: 0s - loss: 0.3301 - accuracy: 0.8767\n",
            "Epoch 00013: val_accuracy did not improve from 0.89250\n",
            "1128/1128 [==============================] - 48s 43ms/step - loss: 0.3300 - accuracy: 0.8767 - val_loss: 0.3116 - val_accuracy: 0.8907\n",
            "Epoch 14/20\n",
            "1127/1128 [============================>.] - ETA: 0s - loss: 0.3270 - accuracy: 0.8791\n",
            "Epoch 00014: val_accuracy did not improve from 0.89250\n",
            "1128/1128 [==============================] - 48s 43ms/step - loss: 0.3271 - accuracy: 0.8791 - val_loss: 0.3065 - val_accuracy: 0.8895\n",
            "Epoch 15/20\n",
            "1128/1128 [==============================] - ETA: 0s - loss: 0.3247 - accuracy: 0.8787\n",
            "Epoch 00015: val_accuracy did not improve from 0.89250\n",
            "1128/1128 [==============================] - 48s 43ms/step - loss: 0.3247 - accuracy: 0.8787 - val_loss: 0.3162 - val_accuracy: 0.8914\n",
            "Epoch 16/20\n",
            "1127/1128 [============================>.] - ETA: 0s - loss: 0.3217 - accuracy: 0.8803\n",
            "Epoch 00016: val_accuracy improved from 0.89250 to 0.89362, saving model to /content/checkpoint_entire_best.h5\n",
            "1128/1128 [==============================] - 48s 43ms/step - loss: 0.3216 - accuracy: 0.8802 - val_loss: 0.3032 - val_accuracy: 0.8936\n",
            "Epoch 17/20\n",
            "1127/1128 [============================>.] - ETA: 0s - loss: 0.3203 - accuracy: 0.8801\n",
            "Epoch 00017: val_accuracy did not improve from 0.89362\n",
            "1128/1128 [==============================] - 48s 43ms/step - loss: 0.3203 - accuracy: 0.8800 - val_loss: 0.3127 - val_accuracy: 0.8920\n",
            "Epoch 18/20\n",
            "1128/1128 [==============================] - ETA: 0s - loss: 0.3194 - accuracy: 0.8798\n",
            "Epoch 00018: val_accuracy did not improve from 0.89362\n",
            "1128/1128 [==============================] - 48s 43ms/step - loss: 0.3194 - accuracy: 0.8798 - val_loss: 0.3101 - val_accuracy: 0.8919\n",
            "Epoch 19/20\n",
            "1127/1128 [============================>.] - ETA: 0s - loss: 0.3194 - accuracy: 0.8813\n",
            "Epoch 00019: val_accuracy did not improve from 0.89362\n",
            "1128/1128 [==============================] - 48s 43ms/step - loss: 0.3194 - accuracy: 0.8814 - val_loss: 0.3022 - val_accuracy: 0.8930\n",
            "Epoch 20/20\n",
            "1127/1128 [============================>.] - ETA: 0s - loss: 0.3174 - accuracy: 0.8818\n",
            "Epoch 00020: val_accuracy did not improve from 0.89362\n",
            "1128/1128 [==============================] - 48s 43ms/step - loss: 0.3174 - accuracy: 0.8818 - val_loss: 0.3053 - val_accuracy: 0.8912\n"
          ],
          "name": "stdout"
        }
      ]
    },
    {
      "cell_type": "code",
      "metadata": {
        "id": "DHmbwfRtFn3C",
        "colab_type": "code",
        "colab": {
          "base_uri": "https://localhost:8080/",
          "height": 573
        },
        "outputId": "40c880c4-28e2-430d-d800-8febb0c7d746"
      },
      "source": [
        "plot_loss(history)\n",
        "plt.show()\n",
        "plot_acc(history)\n",
        "plt.show()"
      ],
      "execution_count": 124,
      "outputs": [
        {
          "output_type": "display_data",
          "data": {
            "image/png": "[encoded data removed]",
            "text/plain": [
              "<Figure size 432x288 with 1 Axes>"
            ]
          },
          "metadata": {
            "tags": [],
            "needs_background": "light"
          }
        },
        {
          "output_type": "display_data",
          "data": {
            "image/png": "[encoded data removed]",
            "text/plain": [
              "<Figure size 432x288 with 1 Axes>"
            ]
          },
          "metadata": {
            "tags": [],
            "needs_background": "light"
          }
        }
      ]
    },
    {
      "cell_type": "markdown",
      "metadata": {
        "colab_type": "text",
        "id": "QR9WUYXxqtfR"
      },
      "source": [
        "# **4. 모델 저장**"
      ]
    },
    {
      "cell_type": "code",
      "metadata": {
        "colab_type": "code",
        "id": "Wi9yznz4qvzK",
        "colab": {}
      },
      "source": [
        "save_path = '/content/'\n",
        "team_name = 'team04'\n",
        "\n",
        "# 트레이닝된 전체 모델을 저장합니다.\n",
        "model.save(save_path +  'model_entire_'+ team_name + '.h5')"
      ],
      "execution_count": 125,
      "outputs": []
    },
    {
      "cell_type": "markdown",
      "metadata": {
        "colab_type": "text",
        "id": "4aPbgI-c-Kj8"
      },
      "source": [
        "# **5. 모델 로드 및 평가**"
      ]
    },
    {
      "cell_type": "code",
      "metadata": {
        "colab_type": "code",
        "id": "y7WONVxH-Kt6",
        "colab": {
          "base_uri": "https://localhost:8080/",
          "height": 53
        },
        "outputId": "fba48cfb-6ed8-4b35-be8f-12a136e5c2ca"
      },
      "source": [
        "save_path = '/content/'\n",
        "team_name = 'team04'\n",
        "\n",
        "model = keras.models.load_model(save_path + 'model_entire_' + team_name + '.h5')\n",
        "\n",
        "model.evaluate(x_test_after, y_test)"
      ],
      "execution_count": 128,
      "outputs": [
        {
          "output_type": "stream",
          "text": [
            "588/588 [==============================] - 3s 6ms/step - loss: 0.3032 - accuracy: 0.8936\n"
          ],
          "name": "stdout"
        },
        {
          "output_type": "execute_result",
          "data": {
            "text/plain": [
              "[0.3032320737838745, 0.8936170339584351]"
            ]
          },
          "metadata": {
            "tags": []
          },
          "execution_count": 128
        }
      ]
    }
  ]
}